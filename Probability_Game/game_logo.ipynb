{
 "cells": [
  {
   "cell_type": "markdown",
   "metadata": {},
   "source": [
    "## Statistics Game Logo (R) - Ethan, Molly, and Ian\n",
    "\n",
    "In the following cells, a logo for our game, `SECOND SIGHT`, will be created."
   ]
  },
  {
   "cell_type": "markdown",
   "metadata": {},
   "source": [
    "### 1.0 - Install and Load the Necessary Packages\n",
    "We use `ggplot2` and `dplyr` from `tidyverse`, as well as `geomtextpath`."
   ]
  },
  {
   "cell_type": "code",
   "execution_count": 1,
   "metadata": {
    "vscode": {
     "languageId": "r"
    }
   },
   "outputs": [
    {
     "name": "stderr",
     "output_type": "stream",
     "text": [
      "Installing packages into 'C:/Users/ethan/AppData/Local/R/win-library/4.2'\n",
      "(as 'lib' is unspecified)\n",
      "\n"
     ]
    },
    {
     "name": "stdout",
     "output_type": "stream",
     "text": [
      "package 'tidyverse' successfully unpacked and MD5 sums checked\n",
      "package 'geomtextpath' successfully unpacked and MD5 sums checked\n",
      "\n",
      "The downloaded binary packages are in\n",
      "\tC:\\Users\\ethan\\AppData\\Local\\Temp\\RtmpkVjKGp\\downloaded_packages\n"
     ]
    },
    {
     "name": "stderr",
     "output_type": "stream",
     "text": [
      "\n",
      "Attaching package: 'dplyr'\n",
      "\n",
      "\n",
      "The following objects are masked from 'package:stats':\n",
      "\n",
      "    filter, lag\n",
      "\n",
      "\n",
      "The following objects are masked from 'package:base':\n",
      "\n",
      "    intersect, setdiff, setequal, union\n",
      "\n",
      "\n"
     ]
    }
   ],
   "source": [
    "# Install and load the libraries\n",
    "install.packages(c('tidyverse', 'geomtextpath'), repos='https://cran.microsoft.com')\n",
    "\n",
    "library(ggplot2)\n",
    "library(dplyr)\n",
    "library(geomtextpath)"
   ]
  },
  {
   "cell_type": "markdown",
   "metadata": {},
   "source": [
    "### 2.0 - Create Plot Data Vectors\n",
    "This is where the main pattern data is created (this will of course be adjusted!)."
   ]
  },
  {
   "cell_type": "code",
   "execution_count": 2,
   "metadata": {
    "vscode": {
     "languageId": "r"
    }
   },
   "outputs": [],
   "source": [
    "# Define the number of points\n",
    "points <- 2000\n",
    "\n",
    "# Define the angle\n",
    "angle <- pi/2 + 0.001\n",
    "\n",
    "# Spiral dataset\n",
    "t <- (1:points) * angle\n",
    "x_spiral <- cos(t)\n",
    "y_spiral <- sin(t)\n",
    "\n",
    "# Half-circle top dataset\n",
    "r <- 750\n",
    "x_temp <- seq(-r, r)\n",
    "x_circle <- x_temp * 1.25 # stretch x values\n",
    "y_circle <- sqrt(r^2 - x_temp^2) - 200\n",
    "\n",
    "# Half-circle bottom\n",
    "y_circle_b <- -sqrt(r^2 - x_temp^2) + 200\n",
    "\n",
    "# Eye parabola top section dataset\n",
    "x_temp <- -18:18\n",
    "x_par <- x_temp * 35 # stretch x values\n",
    "y_par <- -x_temp^2 + 324\n",
    "\n",
    "# Bottom of eye parabola\n",
    "y_par_b <- x_temp^2 - 324\n",
    "\n",
    "# Create dataframes\n",
    "spiral <- data.frame(t, x_spiral, y_spiral)\n",
    "circle <- data.frame(x_circle, y_circle, y_circle_b)\n",
    "eye <- data.frame(x_par, y_par, y_par_b)"
   ]
  },
  {
   "cell_type": "markdown",
   "metadata": {},
   "source": [
    "### 2.1 - Create Theme Object to Remove Unwanted Plot Features\n",
    "This code stores the removal information for the plot in a `theme()` object for later use. <br>\n",
    "The object sets the background to white, and removes the grid, ticks, text, and titles."
   ]
  },
  {
   "cell_type": "code",
   "execution_count": 3,
   "metadata": {
    "vscode": {
     "languageId": "r"
    }
   },
   "outputs": [],
   "source": [
    "# Object containing plot theme settings to remove axes, labels, etc.\n",
    "remove_axes <- theme(panel.background = element_rect(fill='white'),\n",
    "                     panel.grid = element_blank(),\n",
    "                     axis.ticks = element_blank(),\n",
    "                     axis.title = element_blank(),\n",
    "                     axis.text = element_blank())"
   ]
  },
  {
   "cell_type": "markdown",
   "metadata": {},
   "source": [
    "### 2.2 - Create Plot\n",
    "This is an exapmle and will also get heavily adjusted.<br><br>\n",
    "The current example logo is created as follows:\n",
    "1. Remove unnecessary axes, labels, etc. from the plot.\n",
    "2. Plot the spiral pattern using the `spiral` dataframe and a `geom_point()` layer.\n",
    "3. Plot the top half of the eye using part of the `eye` dataframe and a `geom_path()` layer.\n",
    "4. Plot the bottom half of the eye.\n",
    "5. Plot the center of the eye as a single, large point.\n",
    "6. Plot the word \"SECOND\" curved above the eye using the `circle` dataframe and `geom_textpath()`.\n",
    "    - The text will follow the curve of a circle that isn't shown. \n",
    "7. Plot the word \"SIGHT\" curved below the eye. \n",
    "\n",
    "This will also save the plot to an image file and create a prompt with its location."
   ]
  },
  {
   "cell_type": "code",
   "execution_count": 4,
   "metadata": {
    "vscode": {
     "languageId": "r"
    }
   },
   "outputs": [
    {
     "name": "stdout",
     "output_type": "stream",
     "text": [
      "\n",
      "Saving image file...\n",
      "\n",
      "\n",
      "High-resolution, correct logo image saved to: 'x:/Desktop/ETHAN'S THINGS/Programming/R/StatisticsShared/Probability_Game/second_sight.png'"
     ]
    },
    {
     "data": {
      "image/png": "[encoded data removed]",
      "text/plain": [
       "plot without title"
      ]
     },
     "metadata": {
      "image/png": {
       "height": 420,
       "width": 420
      }
     },
     "output_type": "display_data"
    }
   ],
   "source": [
    "# Make the plot with ggplot2\n",
    "plt <- ggplot() +\n",
    "    # Remove axes, labels, etc.\n",
    "    remove_axes + \n",
    "\n",
    "    # Points layer 1 using spiral dataframe\n",
    "    geom_point(data = spiral, aes(x_spiral*t, y_spiral*t), \n",
    "               size = 80, alpha = 0.1, shape = 1, color = \"#1c51ff\") + \n",
    "    \n",
    "    # Eye parabola top layer\n",
    "    geom_path(data = eye, aes(x_par, y_par),\n",
    "              linewidth = 2) + \n",
    "    # Eye parabola bottom layer\n",
    "    geom_path(data = eye, aes(x_par, y_par_b),\n",
    "              linewidth = 2) +\n",
    "    \n",
    "    # Eye center\n",
    "    geom_point(aes(0, 0), size=15) +\n",
    "    \n",
    "    # Upper curved text layer using half-circle dataframe\n",
    "    geom_textpath(data = circle, aes(x_circle, y_circle), \n",
    "                  size = 6, label = \"S E C O N D\", \n",
    "                  text_only = TRUE, fontface = \"bold\") +\n",
    "    # Lower curved text\n",
    "    geom_textpath(data = circle, aes(x_circle, y_circle_b), \n",
    "                  size = 6, label = \"S I G H T\", \n",
    "                  text_only = TRUE, fontface = \"bold\")\n",
    "\n",
    "\n",
    "\n",
    "# Make plot with message to check console\n",
    "warning_message <- ggplot() +\n",
    "    # First text\n",
    "    geom_textpath(aes(0, 2), size = 20, \n",
    "                  label = \"IMAGE\\n SAVED!\", color=\"#026302\",\n",
    "                  text_only = TRUE, fontface = \"bold\") +\n",
    "    # Second text\n",
    "    geom_textpath(aes(0, -1), size = 10, \n",
    "                  label = \"SEE CONSOLE FOR\\nSAVED IMAGE PATH\", color=\"#011b92\",\n",
    "                  text_only = TRUE, fontface = \"bold\") +\n",
    "    # Third text\n",
    "    geom_textpath(aes(0, -3), size = 7, \n",
    "                  label = \"This was done to ensure\\nproper image generation.\", color=\"darkred\",\n",
    "                  text_only = TRUE, fontface = \"bold\") +\n",
    "    # Fix boundaries with points\n",
    "    geom_point(aes(0,5), alpha=0) + geom_point(aes(0,-5), alpha=0)\n",
    "\n",
    "# Save high-resolution image\n",
    "cat(\"\\nSaving image file...\\n\\n\")\n",
    "\n",
    "ggsave(\"second_sight.png\", plot = plt, dpi = 500, width = 7 , height = 7) # Deal with this\n",
    "\n",
    "# Show message\n",
    "warning_message\n",
    "\n",
    "cat(paste(\"\\nHigh-resolution, correct logo image saved to: '\", getwd(), \"/second_sight.png'\", sep = \"\"))"
   ]
  },
  {
   "cell_type": "markdown",
   "metadata": {},
   "source": [
    "### 3.0 Final Image\n",
    "The image is saved as \"second_sight.png\" and looks like this:<br><br>\n",
    "<img src=\"second_sight.png\" width=\"400\" height=\"400\"/>\n",
    "<br><br>\n",
    "Image file: https://raw.githubusercontent.com/cometbeetle/StatisticsShared/main/Probability_Game/second_sight.png"
   ]
  }
 ],
 "metadata": {
  "kernelspec": {
   "display_name": "R",
   "language": "R",
   "name": "ir"
  },
  "language_info": {
   "codemirror_mode": "r",
   "file_extension": ".r",
   "mimetype": "text/x-r-source",
   "name": "R",
   "pygments_lexer": "r",
   "version": "4.2.2"
  },
  "orig_nbformat": 4
 },
 "nbformat": 4,
 "nbformat_minor": 2
}
